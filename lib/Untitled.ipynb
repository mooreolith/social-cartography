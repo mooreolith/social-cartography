{
 "cells": [
  {
   "cell_type": "markdown",
   "metadata": {},
   "source": [
    "<h1>Test: Hello, Worlds!</h1>\n",
    "<script src=\"r90.three.min.js\"></script>\n",
    "<script src=\"OrbitControls.js\"></script>\n",
    "<script src=\"jquery-1.11.3.min.js\"></script>\n",
    "<script src=\"jquery-ui.min.js\"></script>\n",
    "<script src=\"fourd.js\"></script>\n",
    "<script src=\"jquery.fourd.js\"></script>\n",
    "\n",
    "<div id=\"display\"></div>\n",
    "<script>\n",
    "    $('#display').fourd({width: 1000, height: 500, background: 0x0088ff});\n",
    "</script>"
   ]
  },
  {
   "cell_type": "code",
   "execution_count": null,
   "metadata": {},
   "outputs": [],
   "source": []
  },
  {
   "cell_type": "code",
   "execution_count": null,
   "metadata": {},
   "outputs": [],
   "source": []
  }
 ],
 "metadata": {
  "kernelspec": {
   "display_name": "Python 3",
   "language": "python",
   "name": "python3"
  },
  "language_info": {
   "codemirror_mode": {
    "name": "ipython",
    "version": 3
   },
   "file_extension": ".py",
   "mimetype": "text/x-python",
   "name": "python",
   "nbconvert_exporter": "python",
   "pygments_lexer": "ipython3",
   "version": "3.6.4"
  }
 },
 "nbformat": 4,
 "nbformat_minor": 2
}
