{
 "cells": [
  {
   "cell_type": "markdown",
   "metadata": {},
   "source": [
    "# Node's express.js is Python's http.server"
   ]
  },
  {
   "cell_type": "markdown",
   "metadata": {},
   "source": [
    "under the python kernel:"
   ]
  },
  {
   "cell_type": "code",
   "execution_count": 6,
   "metadata": {},
   "outputs": [
    {
     "name": "stdout",
     "output_type": "stream",
     "text": [
      "+ express@4.16.3\n",
      "updated 1 package in 1.407s\n"
     ]
    },
    {
     "name": "stderr",
     "output_type": "stream",
     "text": [
      "npm WARN saveError ENOENT: no such file or directory, open 'C:\\Users\\Joshua\\social-cartography\\package.json'\n",
      "npm WARN enoent ENOENT: no such file or directory, open 'C:\\Users\\Joshua\\social-cartography\\package.json'\n",
      "npm WARN social-cartography No description\n",
      "npm WARN social-cartography No repository field.\n",
      "npm WARN social-cartography No README data\n",
      "npm WARN social-cartography No license field.\n",
      "\n"
     ]
    }
   ],
   "source": [
    "!npm install express"
   ]
  },
  {
   "cell_type": "code",
   "execution_count": 2,
   "metadata": {},
   "outputs": [
    {
     "name": "stdout",
     "output_type": "stream",
     "text": [
      "+ get-port@3.2.0\n",
      "added 1 package in 0.97s\n"
     ]
    },
    {
     "name": "stderr",
     "output_type": "stream",
     "text": [
      "npm WARN saveError ENOENT: no such file or directory, open 'C:\\Users\\Joshua\\social-cartography\\package.json'\n",
      "npm WARN enoent ENOENT: no such file or directory, open 'C:\\Users\\Joshua\\social-cartography\\package.json'\n",
      "npm WARN social-cartography No description\n",
      "npm WARN social-cartography No repository field.\n",
      "npm WARN social-cartography No README data\n",
      "npm WARN social-cartography No license field.\n",
      "\n"
     ]
    }
   ],
   "source": [
    "!npm install get-port"
   ]
  },
  {
   "cell_type": "markdown",
   "metadata": {},
   "source": [
    "under the javascript kernel:"
   ]
  },
  {
   "cell_type": "code",
   "execution_count": 2,
   "metadata": {},
   "outputs": [
    {
     "name": "stdout",
     "output_type": "stream",
     "text": [
      "http://localhost:41586/\n"
     ]
    }
   ],
   "source": [
    "var express = require('express');\n",
    "var app = express();\n",
    "var getPort = require('get-port');\n",
    "//var path = require('path');\n",
    "\n",
    "app.use(express.static(__dirname));\n",
    "\n",
    "/*\n",
    "app.get('/', (req, res) => {\n",
    "    res.sendFile('./index.html');\n",
    "    console.log('/.');\n",
    "});\n",
    "*/\n",
    "\n",
    "getPort({port: 16025}).then((port) => {\n",
    "    app.listen(port);\n",
    "    console.log(`http://localhost:${port}/`);\n",
    "});"
   ]
  },
  {
   "cell_type": "markdown",
   "metadata": {},
   "source": [
    "Copyright \n",
    "[Joshua Moore](mailto:moore.joshua@pm.me)\n",
    "<hr />\n",
    "\n",
    "5/11/2018<br />\n",
    "Monmouth, Oregon\n",
    "<hr />\n",
    "7/10/2018<br />\n",
    "North Las Vegas, Nevada\n",
    "<hr />"
   ]
  },
  {
   "cell_type": "code",
   "execution_count": null,
   "metadata": {},
   "outputs": [],
   "source": []
  },
  {
   "cell_type": "code",
   "execution_count": 5,
   "metadata": {},
   "outputs": [
    {
     "name": "stdout",
     "output_type": "stream",
     "text": [
      "42\n"
     ]
    }
   ],
   "source": [
    "selected = new Promise((resolve, reject)=>{\n",
    "    setTimeout(resolve.bind(null, 42), 1000);\n",
    "}).then(val => {\n",
    "    console.log(val);\n",
    "})"
   ]
  },
  {
   "cell_type": "code",
   "execution_count": null,
   "metadata": {},
   "outputs": [],
   "source": []
  }
 ],
 "metadata": {
  "kernelspec": {
   "display_name": "Javascript (Node.js)",
   "language": "javascript",
   "name": "javascript"
  },
  "language_info": {
   "file_extension": ".js",
   "mimetype": "application/javascript",
   "name": "javascript",
   "version": "6.14.3"
  }
 },
 "nbformat": 4,
 "nbformat_minor": 2
}
